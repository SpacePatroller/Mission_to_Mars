{
 "cells": [
  {
   "cell_type": "code",
   "execution_count": 30,
   "metadata": {},
   "outputs": [],
   "source": [
    "#import dependencies\n",
    "\n",
    "from bs4 import BeautifulSoup\n",
    "from splinter import Browser\n",
    "import requests\n",
    "import time\n",
    "import pandas as pd\n",
    "import re"
   ]
  },
  {
   "cell_type": "markdown",
   "metadata": {},
   "source": [
    "## Step 1 - Scraping\n",
    "### NASA Mars News"
   ]
  },
  {
   "cell_type": "code",
   "execution_count": 2,
   "metadata": {},
   "outputs": [],
   "source": [
    "#target site\n",
    "url = 'https://mars.nasa.gov/news/'"
   ]
  },
  {
   "cell_type": "code",
   "execution_count": 3,
   "metadata": {},
   "outputs": [],
   "source": [
    "# Retrieve page with the requests module\n",
    "response = requests.get(url)"
   ]
  },
  {
   "cell_type": "code",
   "execution_count": 4,
   "metadata": {},
   "outputs": [],
   "source": [
    "# Create BeautifulSoup object; parse with 'html.parser'\n",
    "soup = BeautifulSoup(response.text, 'html.parser')"
   ]
  },
  {
   "cell_type": "code",
   "execution_count": 5,
   "metadata": {},
   "outputs": [],
   "source": [
    "# Examine the results, then determine element that contains sought info\n",
    "# print(soup.prettify())"
   ]
  },
  {
   "cell_type": "code",
   "execution_count": 6,
   "metadata": {},
   "outputs": [
    {
     "name": "stdout",
     "output_type": "stream",
     "text": [
      "\n",
      "\n",
      "NASA Announces Landing Site for Mars 2020 Rover\n",
      "\n",
      "\n",
      "\n",
      "After a five-year search, NASA has chosen Jezero Crater as the landing site for its upcoming Mars 2020 rover mission.\n",
      "\n"
     ]
    }
   ],
   "source": [
    "news_title = soup.find(class_='content_title').text\n",
    "print(news_title)\n",
    "news_p = soup.find(class_='rollover_description_inner').text\n",
    "print(news_p)"
   ]
  },
  {
   "cell_type": "markdown",
   "metadata": {},
   "source": [
    "### JPL Mars Space Images - Featured Image\n",
    "\n",
    "* Visit the url for JPL Featured Space Image [here](https://www.jpl.nasa.gov/spaceimages/?search=&category=Mars).\n",
    "\n",
    "* Use splinter to navigate the site and find the image url for the current Featured Mars Image and assign the url string to a variable called `featured_image_url`.\n",
    "\n",
    "* Make sure to find the image url to the full size `.jpg` image.\n",
    "\n",
    "* Make sure to save a complete url string for this image."
   ]
  },
  {
   "cell_type": "code",
   "execution_count": 7,
   "metadata": {},
   "outputs": [
    {
     "name": "stdout",
     "output_type": "stream",
     "text": [
      "/usr/local/bin/chromedriver\r\n"
     ]
    }
   ],
   "source": [
    "#find location of chromedriver\n",
    "!which chromedriver"
   ]
  },
  {
   "cell_type": "code",
   "execution_count": 8,
   "metadata": {},
   "outputs": [
    {
     "name": "stdout",
     "output_type": "stream",
     "text": [
      "https://www.jpl.nasa.gov/spaceimages/images/largesize/PIA16711_hires.jpg\n"
     ]
    }
   ],
   "source": [
    "# how to open chrome \n",
    "executable_path = {'executable_path': '/usr/local/bin/chromedriver'}\n",
    "browser = Browser('chrome', **executable_path, headless=False)\n",
    "\n",
    "#Visit the url for JPL Featured Space Image here.\n",
    "url = 'https://www.jpl.nasa.gov/spaceimages/?search=&category=Mars'\n",
    "browser.visit(url)\n",
    "\n",
    "#storing sites html in the html var\n",
    "html = browser.html\n",
    "soup = BeautifulSoup(html, 'html.parser')\n",
    "\n",
    "#clicking the full image button on the main page\n",
    "browser.click_link_by_partial_text('FULL IMAGE')\n",
    "\n",
    "#waiting\n",
    "time.sleep(2)\n",
    "\n",
    "#clicking the more info button on second page\n",
    "browser.click_link_by_partial_text('more info')\n",
    "\n",
    "#waiting\n",
    "time.sleep(2)\n",
    "\n",
    "# Make sure to find the image url to the full size .jpg image.\n",
    "browser.click_link_by_partial_href('/spaceimages/images/largesize')\n",
    "\n",
    "#wating\n",
    "time.sleep(2)\n",
    "\n",
    "# Make sure to save a complete url string for this image.\n",
    "featured_image_url = browser.url\n",
    "\n",
    "print(featured_image_url)"
   ]
  },
  {
   "cell_type": "markdown",
   "metadata": {},
   "source": [
    "### Mars Weather\n",
    "\n",
    "* Visit the Mars Weather twitter account [here](https://twitter.com/marswxreport?lang=en) and scrape the latest Mars weather tweet from the page. Save the tweet text for the weather report as a variable called `mars_weather`.\n",
    "\n",
    "```python\n",
    "# Example:\n",
    "mars_weather = 'Sol 1801 (Aug 30, 2017), Sunny, high -21C/-5F, low -80C/-112F, pressure at 8.82 hPa, daylight 06:09-17:55'\n",
    "```\n"
   ]
  },
  {
   "cell_type": "code",
   "execution_count": 9,
   "metadata": {},
   "outputs": [],
   "source": [
    "# Visit the Mars Weather twitter account\n",
    "url = 'https://twitter.com/marswxreport?lang=en'\n",
    "browser.visit(url)\n",
    "\n",
    "#storing sites html in the html var\n",
    "html = browser.html\n",
    "soup = BeautifulSoup(html, 'html.parser')"
   ]
  },
  {
   "cell_type": "code",
   "execution_count": 10,
   "metadata": {},
   "outputs": [
    {
     "name": "stdout",
     "output_type": "stream",
     "text": [
      "\n",
      "Sol 2258 (2018-12-13), high -6C/21F, low -70C/-93F, pressure at 8.41 hPa, daylight 06:37-18:51\n",
      "\n"
     ]
    }
   ],
   "source": [
    "# scrape the latest Mars weather tweet from the page\n",
    "\n",
    "mars_weather = soup.find(class_='js-tweet-text-container').text\n",
    "\n",
    "# Save the tweet text for the weather report as a variable called mars_weather.\n",
    "print(mars_weather)"
   ]
  },
  {
   "cell_type": "markdown",
   "metadata": {},
   "source": [
    "### Mars Facts\n",
    "\n",
    "* Visit the Mars Facts webpage [here](http://space-facts.com/mars/) and use Pandas to scrape the table containing facts about the planet including Diameter, Mass, etc.\n",
    "\n",
    "* Use Pandas to convert the data to a HTML table string."
   ]
  },
  {
   "cell_type": "code",
   "execution_count": 11,
   "metadata": {},
   "outputs": [
    {
     "data": {
      "text/plain": [
       "[                      0                              1\n",
       " 0  Equatorial Diameter:                       6,792 km\n",
       " 1       Polar Diameter:                       6,752 km\n",
       " 2                 Mass:  6.42 x 10^23 kg (10.7% Earth)\n",
       " 3                Moons:            2 (Phobos & Deimos)\n",
       " 4       Orbit Distance:       227,943,824 km (1.52 AU)\n",
       " 5         Orbit Period:           687 days (1.9 years)\n",
       " 6  Surface Temperature:                  -153 to 20 °C\n",
       " 7         First Record:              2nd millennium BC\n",
       " 8          Recorded By:           Egyptian astronomers]"
      ]
     },
     "execution_count": 11,
     "metadata": {},
     "output_type": "execute_result"
    }
   ],
   "source": [
    "# Use Pandas to scrape the table containing facts about the planet including Diameter, Mass, etc.\n",
    "\n",
    "url = 'http://space-facts.com/mars/'\n",
    "\n",
    "tables = pd.read_html(url)\n",
    "tables"
   ]
  },
  {
   "cell_type": "code",
   "execution_count": 12,
   "metadata": {},
   "outputs": [
    {
     "data": {
      "text/plain": [
       "list"
      ]
     },
     "execution_count": 12,
     "metadata": {},
     "output_type": "execute_result"
    }
   ],
   "source": [
    "\n",
    "type(tables)"
   ]
  },
  {
   "cell_type": "code",
   "execution_count": 13,
   "metadata": {},
   "outputs": [],
   "source": [
    "# Just for the heck of it. \n",
    "\n",
    "# df = tables[0]\n",
    "# df.columns = ['Measuremnet','Value']\n",
    "# df"
   ]
  },
  {
   "cell_type": "code",
   "execution_count": 14,
   "metadata": {},
   "outputs": [
    {
     "ename": "NameError",
     "evalue": "name 'df' is not defined",
     "output_type": "error",
     "traceback": [
      "\u001b[0;31m---------------------------------------------------------------------------\u001b[0m",
      "\u001b[0;31mNameError\u001b[0m                                 Traceback (most recent call last)",
      "\u001b[0;32m<ipython-input-14-f8910a96166e>\u001b[0m in \u001b[0;36m<module>\u001b[0;34m()\u001b[0m\n\u001b[1;32m      1\u001b[0m \u001b[0;31m# Use Pandas to convert the data to a HTML table string.\u001b[0m\u001b[0;34m\u001b[0m\u001b[0;34m\u001b[0m\u001b[0m\n\u001b[0;32m----> 2\u001b[0;31m \u001b[0mhtml_table\u001b[0m \u001b[0;34m=\u001b[0m \u001b[0mdf\u001b[0m\u001b[0;34m.\u001b[0m\u001b[0mto_html\u001b[0m\u001b[0;34m(\u001b[0m\u001b[0;34m)\u001b[0m\u001b[0;34m\u001b[0m\u001b[0m\n\u001b[0m\u001b[1;32m      3\u001b[0m \u001b[0mhtml_table\u001b[0m\u001b[0;34m\u001b[0m\u001b[0m\n\u001b[1;32m      4\u001b[0m \u001b[0;34m\u001b[0m\u001b[0m\n\u001b[1;32m      5\u001b[0m \u001b[0;31m#clean table a bit\u001b[0m\u001b[0;34m\u001b[0m\u001b[0;34m\u001b[0m\u001b[0m\n",
      "\u001b[0;31mNameError\u001b[0m: name 'df' is not defined"
     ]
    }
   ],
   "source": [
    "# Use Pandas to convert the data to a HTML table string.\n",
    "html_table = df.to_html()\n",
    "html_table\n",
    "\n",
    "#clean table a bit\n",
    "html_table.replace('\\n', '')\n",
    "\n",
    "# Save the table, better off just doing it I guess?\n",
    "df.to_html('table.html')"
   ]
  },
  {
   "cell_type": "code",
   "execution_count": null,
   "metadata": {},
   "outputs": [],
   "source": [
    "!open table.html"
   ]
  },
  {
   "cell_type": "markdown",
   "metadata": {},
   "source": [
    "### Mars Hemispheres\n",
    "\n",
    "* Visit the USGS Astrogeology site [here](https://astrogeology.usgs.gov/search/results?q=hemisphere+enhanced&k1=target&v1=Mars) to obtain high resolution images for each of Mar's hemispheres.\n",
    "\n",
    "* You will need to click each of the links to the hemispheres in order to find the image url to the full resolution image.\n",
    "\n",
    "* Save both the image url string for the full resolution hemisphere image, and the Hemisphere title containing the hemisphere name. Use a Python dictionary to store the data using the keys `img_url` and `title`.\n",
    "\n",
    "* Append the dictionary with the image url string and the hemisphere title to a list. This list will contain one dictionary for each hemisphere.\n",
    "\n",
    "```python\n",
    "# Example:\n",
    "hemisphere_image_urls = [\n",
    "    {\"title\": \"Valles Marineris Hemisphere\", \"img_url\": \"...\"},\n",
    "    {\"title\": \"Cerberus Hemisphere\", \"img_url\": \"...\"},\n",
    "    {\"title\": \"Schiaparelli Hemisphere\", \"img_url\": \"...\"},\n",
    "    {\"title\": \"Syrtis Major Hemisphere\", \"img_url\": \"...\"},\n",
    "]\n",
    "```"
   ]
  },
  {
   "cell_type": "code",
   "execution_count": 17,
   "metadata": {},
   "outputs": [],
   "source": [
    "# Visit the USGS Astrogeology site here to obtain high resolution images for each of Mar's hemispheres.\n",
    "\n",
    "executable_path = {'executable_path': '/usr/local/bin/chromedriver'}\n",
    "browser = Browser('chrome', **executable_path, headless=False)\n",
    "\n",
    "\n",
    "url = 'https://astrogeology.usgs.gov/search/results?q=hemisphere+enhanced&k1=target&v1=Mars'\n",
    "browser.visit(url)\n",
    "\n",
    "#storing sites html in the html var\n",
    "html = browser.html\n",
    "soup = BeautifulSoup(html, 'html.parser')"
   ]
  },
  {
   "cell_type": "markdown",
   "metadata": {},
   "source": [
    "###### You will need to click each of the links to the hemispheres in order to find the image url to the full resolution image.\n"
   ]
  },
  {
   "cell_type": "code",
   "execution_count": 21,
   "metadata": {},
   "outputs": [
    {
     "name": "stdout",
     "output_type": "stream",
     "text": [
      "<!DOCTYPE html><html xmlns=\"http://www.w3.org/1999/xhtml\" lang=\"en\"><head>\n",
      "\t\t<link rel=\"stylesheet\" type=\"text/css\" href=\"//ajax.googleapis.com/ajax/libs/jqueryui/1.11.4/themes/smoothness/jquery-ui.css\" />\n",
      "<title>Valles Marineris Hemisphere Unenhanced | USGS Astrogeology Science Center</title>\n",
      "\t\t<meta name=\"description\" content=\"Mosaic of the Valles Marineris hemisphere of Mars projected into point perspective, a view similar to that which one would…\" />\n",
      "\t\t<meta name=\"keywords\" content=\"USGS,Astrogeology Science Center,Cartography,Geology,Space,Geological Survey,Mapping\" />\n",
      "\t\t<meta http-equiv=\"X-UA-Compatible\" content=\"IE=edge\" />\n",
      "\t\t<meta http-equiv=\"Content-Type\" content=\"text/html; charset=utf-8\" />\n",
      "\t\t<meta name=\"viewport\" content=\"width=device-width, initial-scale=1, maximum-scale=1\" />\n",
      "\t\t<meta name=\"google-site-verification\" content=\"x61hXXVj7wtfBSNOPnTftajMsZ5yB2W-qRoyr7GtOKM\" />\n",
      "\t\t<!--<link rel=\"stylesheet\" href=\"http://fonts.googleapis.com/css?family=Open+Sans:400italic,400,bold\"/>-->\n",
      "\t\t<link rel=\"stylesheet\" media=\"screen\" href=\"/css/main.css\" />\n",
      "\t\t<link rel=\"stylesheet\" media=\"print\" href=\"/css/print.css\" />\n",
      "\t\t<!--[if lt IE 9]>\n",
      "\t\t\t<script src=\"http://html5shiv.googlecode.com/svn/trunk/html5.js\"></script>\n",
      "\t\t\t<script src=\"/js/respond.min.js\"></script>\n",
      "\t\t\t<link rel=\"stylesheet\" type=\"text/css\" href=\"/css/ie.css\"/>\n",
      "                        <script>\n",
      "                          document.createElement('header');\n",
      "                          document.createElement('nav');\n",
      "                          document.createElement('section');\n",
      "                          document.createElement('article');\n",
      "                          document.createElement('aside');\n",
      "                          document.createElement('footer');\n",
      "                          document.createElement('hgroup');\n",
      "                        </script>\n",
      "                  <![endif]-->\n",
      "\t\t<link rel=\"icon\" type=\"image/x-ico\" href=\"/favicon.ico\" />\n",
      "\t</head>\n",
      "\t<body id=\"splashy\">\n",
      "\t\t<header>\n",
      "\t\t\t<h1>Astrogeology Science Center</h1>\n",
      "\t\t\t<a href=\"http://www.usgs.gov\">\n",
      "\t\t\t\t<img class=\"logo\" height=\"70\" width=\"180\" src=\"/images/usgs_logo_main_2x.png\" alt=\"USGS: Science for a Changing World\" />\n",
      "\t\t\t</a>\n",
      "\t\t</header>\n",
      "\t\t<div class=\"wrapper\">\n",
      "\t\t\t<nav>\n",
      "\t\t\t\t<a id=\"nav-toggle\" href=\"#\" title=\"Navigation Menu\">Menu</a>\n",
      "<ul class=\"dropdown dropdown-horizontal\" id=\"yw0\">\n",
      "<li><a href=\"/\">Home</a></li>\n",
      "<li><a href=\"/about\">About</a>\n",
      "<ul>\n",
      "<li><a href=\"/about/careers\">Careers</a></li>\n",
      "<li><a href=\"/contact\">Contact</a></li>\n",
      "<li><a href=\"/about/events\">Events</a></li>\n",
      "<li><a href=\"/site/glossary\">Glossary</a></li>\n",
      "<li><a href=\"/about/mission\">Mission</a></li>\n",
      "<li><a href=\"/news\">News</a></li>\n",
      "<li><a href=\"/people\">People</a></li>\n",
      "<li><a href=\"/about/using-our-images\">Using Our Images</a></li>\n",
      "<li><a href=\"/about/visitors\">Visitors</a></li>\n",
      "</ul>\n",
      "</li>\n",
      "<li><a href=\"/facilities\">Labs / Facilities</a>\n",
      "<ul>\n",
      "<li><a href=\"/facilities/flynn-creek-crater-sample-collection\">Flynn Creek Crater Sample Collection</a></li>\n",
      "<li><a href=\"http://www.moon-cal.org\">Lunar Calibration Project</a></li>\n",
      "<li><a href=\"/facilities/meteor-crater-sample-collection\">Meteor Crater Sample Collection</a></li>\n",
      "<li><a href=\"/facilities/mrctr\">MRCTR GIS Lab</a></li>\n",
      "<li><a href=\"/facilities/cartography-and-imaging-sciences-node-of-nasa-planetary-data-system\">PDS Cartography and Imaging Sciences Node</a></li>\n",
      "<li><a href=\"/pds/annex\">PDS IMG Annex</a></li>\n",
      "<li><a href=\"/facilities/photogrammetry-guest-facility\">Photogrammetry Guest Facility</a></li>\n",
      "<li><a href=\"/rpif\">Regional Planetary Information Facility (RPIF)</a></li>\n",
      "</ul>\n",
      "</li>\n",
      "<li><a href=\"/maps\">Maps / Products</a>\n",
      "<ul>\n",
      "<li><a href=\"/search\">Product Search</a></li>\n",
      "<li><a href=\"http://planetarynames.wr.usgs.gov\">Gazetteer of Planetary Nomenclature</a></li>\n",
      "<li><a href=\"http://planetarymapping.wr.usgs.gov\">Geologic Mapping Program</a></li>\n",
      "<li><a href=\"http://pilot.wr.usgs.gov\">Planetary Image Locator Tool (PILOT)</a></li>\n",
      "<li><a href=\"/search/planetary-index\">Planetary Map Index</a></li>\n",
      "</ul>\n",
      "</li>\n",
      "<li><a href=\"/geology\">Missions / Research</a>\n",
      "<ul>\n",
      "<li><a href=\"/geology/mars-dunes\">Mars Dunes</a></li>\n",
      "<li><a href=\"/geology/mars-ice\">Mars Ice</a></li>\n",
      "<li><a href=\"/missions\">Mission Support</a></li>\n",
      "<li><a href=\"/solar-system\">Solar System</a></li>\n",
      "<li><a href=\"/groups\">Working Groups</a></li>\n",
      "</ul>\n",
      "</li>\n",
      "<li><a href=\"/tools\">Tools</a>\n",
      "<ul>\n",
      "<li><a href=\"http://planetarynames.wr.usgs.gov\">Gazetteer of Planetary Nomenclature</a></li>\n",
      "<li><a href=\"http://isis.astrogeology.usgs.gov\">Integrated Software for Imagers and Spectrometers (ISIS)</a></li>\n",
      "<li><a href=\"http://astrogeology.usgs.gov/tools/map-a-planet-2\">Map a Planet 2</a></li>\n",
      "<li><a href=\"http://pilot.wr.usgs.gov\">Planetary Image Locator Tool (PILOT)</a></li>\n",
      "<li><a href=\"http://astrocloud.wr.usgs.gov/\">Projection on the Web (POW)</a></li>\n",
      "</ul>\n",
      "</li>\n",
      "</ul>\t\t\t\t<form id=\"search\" class=\"search\" action=\"/search/results\" method=\"get\">\n",
      "\t\t\t\t\t<input type=\"submit\" value=\"\" title=\"Search Astropedia\" />\n",
      "\t\t\t\t\t<input type=\"text\" placeholder=\"Search\" name=\"q\" />\n",
      "\t\t\t\t<input type=\"hidden\" name=\"__ncforminfo\" value=\"f84jNZOJwWP0LmyT2jx4oagxw2WNAR95EUGDTDoWvmg6seyhpAOy3icI4xJfmAWYaSyRsT8owu-Xr4z7ErbJspJHtRyKlszRr4_sN8SQZGw=\" /></form>\n",
      "\t\t\t</nav>\n",
      "\t\t\t<div class=\"container\">\n",
      "\t\t\t\t<div class=\"widget block bar\">\n",
      "  <a style=\"float:left\" href=\"/search\">\n",
      "\t\t<img style=\"width:200px;border:none;\" src=\"/images/astropedia/astropedia-logo-main.png\" alt=\"Astropedia\" />\n",
      "\t\t<h3>Product Details</h3>\n",
      "\t</a>\n",
      "</div>\n",
      "<div id=\"wide-image\" class=\"wide-image-wrapper \">\n",
      "   \n",
      "\t<div class=\"downloads\">\n",
      "\t\t<img class=\"thumb\" src=\"/cache/images/624683252b31408dabbc5c051b12a777_valles_marineris_unenhanced.tif_thumb.png\" />\n",
      "\t\t<h3>Download</h3>\n",
      "<ul>\n",
      "\n",
      "\t   <li><a target=\"_blank\" href=\"http://astropedia.astrogeology.usgs.gov/download/Mars/Viking/valles_marineris_unenhanced.tif/full.jpg\">Sample</a> (jpg) 1024px wide</li>\n",
      "\t   <li><a target=\"_blank\" href=\"http://astropedia.astrogeology.usgs.gov/download/Mars/Viking/valles_marineris_unenhanced.tif\">Original</a> (tif<span class=\"tooltip word-tif\" title=\"\"></span>) 24 MB</li>\n",
      "\t\t</ul>\n",
      "\t</div>\n",
      "\n",
      "\t<img class=\"wide-image\" src=\"/cache/images/8981a6d7057a7634dc312c0448f462c1_valles_marineris_unenhanced.tif_full.jpg\" />\n",
      "\t\t<a id=\"wide-image-toggle\" class=\"open-toggle\" href=\"#open\">Open</a>\n",
      "\t</div>\n",
      "\t<div class=\"content\">\n",
      "\n",
      "\n",
      "\t\t<section class=\"block metadata\">\n",
      "\t\t\t\t\t\t\t<a class=\"button\" href=\"/search/results?q=hemisphere+enhanced&amp;k1=target&amp;v1=Mars\">Back</a>\n",
      "\t\t\t\t\t\t<h2 class=\"title\">Valles Marineris Hemisphere Unenhanced</h2>\n",
      "\t\t\t\t\t\t\t <p>Mosaic of the Valles Marineris hemisphere of Mars projected into point perspective, a view similar to that which one would see from a spacecraft. The distance is 2500 kilometers from the surface of the planet, with the scale being .6km/pixel. The mosaic is composed of 102 Viking Orbiter images of Mars. The center of the scene (lat -8, long 78) shows the entire Valles Marineris canyon system, over 2000 kilometers long and up to 8 kilometers deep, extending form Noctis Labyrinthus, the arcuate system of graben to the west, to the chaotic terrain to the east. Many huge ancient river channels begin from the chaotic terrain from north-central canyons and run north. The three Tharsis volcanoes (dark red spots), each about 25 kilometers high, are visible to the west. South of Valles Marineris is very ancient terrain covered by many impact craters.</p>\n",
      "\n",
      "\t\t\t\t\t\t<dl>\n",
      " \t\t         \n",
      "\t\t\t\t<dt>Mimetype</dt>\n",
      "\t\t\t\t<dd><a href=\"/search/results?m=image/tiff\">image/tiff</a></dd>\n",
      "\t\t\t<dt>Filename</dt><dd><a href=\"http://astropedia.astrogeology.usgs.gov/download/Mars/Viking/valles_marineris_unenhanced.tif\">valles_marineris_unenhanced.tif<span class=\"tooltip word-tif\" title=\"\"></span></a></dd><dt>Originator</dt><dd></dd><dt>Group</dt><dd></dd><dt>Added to Astropedia</dt><dd>29 September 2011</dd><dt>Modified</dt><dd>3 November 2017</dd></dl><h2>General</h2><dl><dt>Geospatial Data Presentation Form</dt><dd><a href=\"/search/results?k1=geospatial_data_presentation_form&amp;v1=Global+Mosaic\">Global Mosaic</a></dd></dl><h2>Keywords</h2><dl><dt>Target</dt><dd><a href=\"/search/results?k1=target&amp;v1=Mars\">Mars</a></dd><dt>Theme</dt><dd><a href=\"/search/results?k1=theme&amp;v1=Canyons\">Canyons</a></dd><dt>Mission</dt><dd><a href=\"/search/results?k1=mission&amp;v1=Viking+Orbiter\">Viking Orbiter</a></dd></dl><h2>Geospatial Information</h2><dl><dt>Quad Name</dt><dd></dd>\t\t</dl>\n",
      "\t</section>\n",
      "</div>\n",
      "<div class=\"sidebar\">\n",
      "\t<div class=\"block\">\n",
      "\t\t<h3 class=\"title\">Related Products</h3>\n",
      "\n",
      "\t\t<a href=\"/search/map/Mars/Viking/valles_marineris_enhanced\" class=\"item\">\n",
      "\t\t\t<img class=\"thumb description-thumb\" src=\"/cache/images/04085d99ec3713883a9a57f42be9c725_valles_marineris_enhanced.tif_thumb.png\" alt=\"Valles Marineris Hemisphere Enhanced thumbnail\" />\n",
      "\t\t\t<div class=\"description\">\n",
      "\t\t\t\t<h3>Valles Marineris Hemisphere Enhanced</h3>\n",
      "\t<p>Mosaic of the Valles Marineris hemisphere of Mars projected into…</p>\n",
      "\t\t\t</div>\n",
      "\t\t</a>\n",
      "\t\n",
      "\t\t<a href=\"/search/map/Mars/Viking/syrtis_major_unenhanced\" class=\"item\">\n",
      "\t\t\t<img class=\"thumb description-thumb\" src=\"/cache/images/0039e532ab44f7836f8a384d6f9adc3f_syrtis_major_unenhanced.tif_thumb.png\" alt=\"Syrtis Major Hemisphere Unenhanced thumbnail\" />\n",
      "\t\t\t<div class=\"description\">\n",
      "\t\t\t\t<h3>Syrtis Major Hemisphere Unenhanced</h3>\n",
      "\t<p>Mosaic of the Syrtis Major hemisphere of Mars projected into point…</p>\n",
      "\t\t\t</div>\n",
      "\t\t</a>\n",
      "\t\n",
      "\t\t<a href=\"/search/map/Mars/Viking/syrtis_major_enhanced\" class=\"item\">\n",
      "\t\t\t<img class=\"thumb description-thumb\" src=\"/cache/images/aae41197e40d6d4f3ea557f8cfe51d15_syrtis_major_enhanced.tif_thumb.png\" alt=\"Syrtis Major Hemisphere Enhanced thumbnail\" />\n",
      "\t\t\t<div class=\"description\">\n",
      "\t\t\t\t<h3>Syrtis Major Hemisphere Enhanced</h3>\n",
      "\t<p>Mosaic of the Syrtis Major hemisphere of Mars projected into point…</p>\n",
      "\t\t\t</div>\n",
      "\t\t</a>\n",
      "\t\n",
      "\t\t<a href=\"/search/map/Mars/Viking/schiaparelli_unenhanced\" class=\"item\">\n",
      "\t\t\t<img class=\"thumb description-thumb\" src=\"/cache/images/eeda48b8f032727970d735b2b689937c_schiaparelli_unenhanced.tif_thumb.png\" alt=\"Schiaparelli Hemisphere Unenhanced thumbnail\" />\n",
      "\t\t\t<div class=\"description\">\n",
      "\t\t\t\t<h3>Schiaparelli Hemisphere Unenhanced</h3>\n",
      "\t<p>Mosaic of the Schiaparelli hemisphere of Mars projected into point…</p>\n",
      "\t\t\t</div>\n",
      "\t\t</a>\n",
      "\t\n",
      "\t\t<a href=\"/search/map/Mars/Viking/schiaparelli_enhanced\" class=\"item\">\n",
      "\t\t\t<img class=\"thumb description-thumb\" src=\"/cache/images/7677c0a006b83871b5a2f66985ab5857_schiaparelli_enhanced.tif_thumb.png\" alt=\"Schiaparelli Hemisphere Enhanced thumbnail\" />\n",
      "\t\t\t<div class=\"description\">\n",
      "\t\t\t\t<h3>Schiaparelli Hemisphere Enhanced</h3>\n",
      "\t<p>Mosaic of the Schiaparelli hemisphere of Mars projected into point…</p>\n",
      "\t\t\t</div>\n",
      "\t\t</a>\n",
      "\t<ul class=\"page-numbers\"><li><a class=\"active \" href=\"/search/map/Mars/Viking/valles_marineris_unenhanced?p=1&amp;pb=1#downloads\">1</a></li><li><a class=\"\" href=\"/search/map/Mars/Viking/valles_marineris_unenhanced?p=2&amp;pb=1#downloads\">2</a></li></ul></div></div>\n",
      "\t\t\t</div>\n",
      "\t\t\t\t\t\t\t<div class=\"icons projects black scroll-wrapper\">\n",
      "\t\t\t\t\t<div class=\"scroll\">\n",
      "\t\t\t\t\t\t<a title=\"Integrated Software for Imagers and Spectrometers\" href=\"http://isis.astrogeology.usgs.gov\" class=\"icon\">\n",
      "\t\t\t\t\t\t\t<img alt=\"ISIS Logo\" height=\"112\" width=\"112\" src=\"/images/logos/isis_2x.jpg\" />\n",
      "\t\t\t\t\t\t\t<span class=\"label\">ISIS</span>\n",
      "\t\t\t\t\t\t</a>\n",
      "\t\t\t\t\t\t<a title=\"Gazetteer of Planetary Nomenclature\" href=\"http://planetarynames.wr.usgs.gov\" class=\"icon\">\n",
      "\t\t\t\t\t\t\t<img alt=\"Nomenclature Logo\" height=\"112\" width=\"112\" src=\"/images/logos/nomenclature_2x.jpg\" />\n",
      "\t\t\t\t\t\t\t<span class=\"label\">Planetary Nomenclature</span>\n",
      "\t\t\t\t\t\t</a>\n",
      "\t\t\t\t\t\t<a title=\"Map a Planet 2\" href=\"http://astrogeology.usgs.gov/tools/map\" class=\"icon\">\n",
      "\t\t\t\t\t\t\t<img alt=\"Map-a-Planet Logo\" height=\"112\" width=\"112\" src=\"/images/logos/map_a_planet_2x.jpg\" />\n",
      "\t\t\t\t\t\t\t<span class=\"label\">Map a Planet 2</span>\n",
      "\t\t\t\t\t\t</a>\n",
      "\t\t\t\t\t\t<a title=\"PDS Imaging Node\" href=\"/facilities/imaging-node-of-nasa-planetary-data-system-pds\" class=\"icon\">\n",
      "\t\t\t\t\t\t\t<img alt=\"PDS Logo\" height=\"112\" src=\"/images/pds_logo-black-web.png\" />\n",
      "\t\t\t\t\t\t\t<span class=\"label\">PDS Imaging Node</span>\n",
      "\t\t\t\t\t\t</a>\n",
      "<!--\n",
      "\t\t\t\t\t\t<a title=\"Astropedia Search\" href=\"/search\" class=\"icon\">\n",
      "\t\t\t\t\t\t\t<img alt=\"Astropedia Logo\" height=\"112\" width=\"112\" src=\"/images/logos/astropedia_2x.jpg\"/>\n",
      "\t\t\t\t\t\t\t<span class=\"label\">Astropedia</span>\n",
      "\t\t\t\t\t\t</a>\n",
      "-->\n",
      "\t\t\t\t\t\t<a title=\"Regional Planetary Image Facility\" href=\"/rpif\" class=\"icon\">\n",
      "\t\t\t\t\t\t\t<img alt=\"RPIF Logo\" height=\"112\" width=\"112\" src=\"/images/logos/rpif_2x.jpg\" />\n",
      "\t\t\t\t\t\t\t<span class=\"label\">RPIF</span>\n",
      "\t\t\t\t\t\t</a>\n",
      "\t\t\t\t\t\t<a title=\"Photogrammetry Guest Facility\" href=\"/facilities/photogrammetry-guest-facility\" class=\"icon\">\n",
      "\t\t\t\t\t\t\t<img alt=\"Photogrammetry Guest Faciltiy Logo\" height=\"112\" width=\"112\" src=\"/images/logos/photogrammetry_2x.jpg\" />\n",
      "\t\t\t\t\t\t\t<span class=\"label\">Photogrammetry Guest Facility</span>\n",
      "\t\t\t\t\t\t</a>\n",
      "\t\t\t\t\t\t<a title=\"Planetary Image Locator Tool\" href=\"http://pilot.wr.usgs.gov\" class=\"icon\">\n",
      "\t\t\t\t\t\t\t<img alt=\"Pilot Logo\" height=\"112\" width=\"112\" src=\"/images/logos/pilot_2x.jpg\" />\n",
      "\t\t\t\t\t\t\t<span class=\"label\">PILOT</span>\n",
      "\t\t\t\t\t\t</a>\n",
      "\t\t\t\t\t\t<a title=\"Mapping, Remote-sensing, Cartography, Technology and Research GIS Lab\" href=\"/facilities/mrctr\" class=\"icon\">\n",
      "\t\t\t\t\t\t\t<img alt=\"MRCTR GIS Lab Logo\" height=\"112\" width=\"112\" src=\"/images/logos/mrctr_2x.jpg\" />\n",
      "\t\t\t\t\t\t\t<span class=\"label\">MRCTR GIS Lab</span>\n",
      "\t\t\t\t\t\t</a>\n",
      "\t\t\t\t\t</div>\n",
      "\t\t\t\t</div>\n",
      "\t\t\t\t\t\t<footer>\n",
      "\t\t\t\t<div class=\"left\">\n",
      "\t\t\t\t\t<a href=\"http://astrogeology.usgs.gov\">Home</a> |\n",
      "\t\t\t\t\t<a href=\"http://astrogeology.usgs.gov/contact\">Contact</a> |\n",
      "\t\t\t\t\t<a href=\"http://astrogeology.usgs.gov/about/events\">Events</a> |\n",
      "\t\t\t\t\t<a href=\"http://astrogeology.usgs.gov/news\">News</a>\n",
      "\t\t\t\t</div>\n",
      "\t\t\t\t<div class=\"right\">\n",
      "\t\t\t\t\t<a href=\"http://www.doi.gov\">U.S. Department of Interior</a> | <a href=\"http://www.usgs.gov\">U.S. Geological Survey</a> | <a href=\"http://www.usa.gov\">USA.gov</a>\n",
      "\t\t\t\t</div>\n",
      "\t\t\t</footer>\n",
      "\t\t</div>\n",
      "<!--\n",
      "\t\t<div class=\"credit\">\n",
      "\t\t\t<small>Background Credits: NASA/USGS</small>\n",
      "\t\t</div>\n",
      "-->\n",
      "\t\t<div class=\"page-background\" style=\"&#10;&#9;&#9;&#9;background:url('/images/backgrounds/mars.jpg');&#10;&#9;&#9;&#9;filter:progid:DXImageTransform.Microsoft.AlphaImageLoader(&#10;&#9;&#9;&#9;&#9;src='/images/backgrounds/mars.jpg', sizingMethod='scale');&#10;&#9;&#9;\"></div>\n",
      "\t\t<script type=\"text/javascript\" async=\"\" src=\"https://ssl.google-analytics.com/ga.js\"></script><script type=\"text/javascript\">\n",
      "var baseUrl = \"\";\n",
      "\n",
      "\n",
      "var _gaq = _gaq || [];_gaq.push(['_setAccount', 'UA-27613186-1']);_gaq.push(['_trackPageview']);(function() { var ga = document.createElement('script'); ga.type = 'text/javascript'; ga.async = true;ga.src = ('https:' == document.location.protocol ? 'https://ssl' : 'http://www') + '.google-analytics.com/ga.js'; var s = document.getElementsByTagName('script')[0]; s.parentNode.insertBefore(ga, s);})();\n",
      "\n",
      "\t\t</script>\n",
      "\t<script type=\"text/javascript\" src=\"https://ajax.googleapis.com/ajax/libs/jquery/1.11.1/jquery.min.js\"></script>\n",
      "<script type=\"text/javascript\" src=\"//ajax.googleapis.com/ajax/libs/jqueryui/1.11.4/jquery-ui.min.js\"></script>\n",
      "<script type=\"text/javascript\" src=\"https://astropedia.astrogeology.usgs.gov/downloadWeb/dynamic/glossary.js\"></script>\n",
      "<script type=\"text/javascript\" src=\"/js/astro-tips.js\"></script>\n",
      "<script type=\"text/javascript\" src=\"/js/general.js\"></script>\n",
      "<script type=\"text/javascript\">\n",
      "/*&lt;![CDATA[*/\n",
      "showTooltips(\".downloads, .content dl, .listing\", true);\n",
      "/*]]&gt;*/\n",
      "</script><div role=\"log\" aria-live=\"assertive\" aria-relevant=\"additions\" class=\"ui-helper-hidden-accessible\"></div><div role=\"log\" aria-live=\"assertive\" aria-relevant=\"additions\" class=\"ui-helper-hidden-accessible\"></div>\n",
      "\n",
      "\n",
      "</body></html>\n"
     ]
    }
   ],
   "source": [
    "#Valles Marineris Hemisphere\n",
    "browser.click_link_by_partial_text('Valles Marineris')\n",
    "\n",
    "#waiting\n",
    "# time.sleep(2)\n",
    "\n",
    "# browser.click_link_by_partial_href('#open')\n",
    "\n",
    "#waiting\n",
    "time.sleep(2)\n",
    "\n",
    "print(browser.html)"
   ]
  },
  {
   "cell_type": "code",
   "execution_count": 36,
   "metadata": {
    "scrolled": true
   },
   "outputs": [
    {
     "name": "stdout",
     "output_type": "stream",
     "text": [
      "[<splinter.driver.webdriver.WebDriverElement object at 0x120d5ff28>, <splinter.driver.webdriver.WebDriverElement object at 0x120da50b8>, <splinter.driver.webdriver.WebDriverElement object at 0x120da5128>, <splinter.driver.webdriver.WebDriverElement object at 0x120a0f748>, <splinter.driver.webdriver.WebDriverElement object at 0x120a0f7b8>]\n"
     ]
    }
   ],
   "source": [
    "links_found = browser.find_link_by_partial_href('valles_marineris_unenhanced')\n",
    "print(links_found)"
   ]
  },
  {
   "cell_type": "code",
   "execution_count": 37,
   "metadata": {},
   "outputs": [
    {
     "data": {
      "text/plain": [
       "[]"
      ]
     },
     "execution_count": 37,
     "metadata": {},
     "output_type": "execute_result"
    }
   ],
   "source": [
    "soup.find_all(href=re.compile(\"valles_marineris_unenhanced\"))"
   ]
  },
  {
   "cell_type": "code",
   "execution_count": 39,
   "metadata": {},
   "outputs": [
    {
     "name": "stdout",
     "output_type": "stream",
     "text": [
      "[<splinter.driver.webdriver.WebDriverElement object at 0x11f1d3438>]\n"
     ]
    }
   ],
   "source": [
    "links_found = browser.find_link_by_partial_text('valles_marineris_unenhanced')\n",
    "print(links_found)"
   ]
  },
  {
   "cell_type": "code",
   "execution_count": null,
   "metadata": {},
   "outputs": [],
   "source": []
  },
  {
   "cell_type": "code",
   "execution_count": null,
   "metadata": {},
   "outputs": [],
   "source": []
  },
  {
   "cell_type": "code",
   "execution_count": null,
   "metadata": {},
   "outputs": [],
   "source": []
  },
  {
   "cell_type": "code",
   "execution_count": null,
   "metadata": {},
   "outputs": [],
   "source": []
  },
  {
   "cell_type": "code",
   "execution_count": null,
   "metadata": {},
   "outputs": [],
   "source": []
  }
 ],
 "metadata": {
  "kernelspec": {
   "display_name": "Python 3",
   "language": "python",
   "name": "python3"
  },
  "language_info": {
   "codemirror_mode": {
    "name": "ipython",
    "version": 3
   },
   "file_extension": ".py",
   "mimetype": "text/x-python",
   "name": "python",
   "nbconvert_exporter": "python",
   "pygments_lexer": "ipython3",
   "version": "3.6.6"
  }
 },
 "nbformat": 4,
 "nbformat_minor": 2
}
